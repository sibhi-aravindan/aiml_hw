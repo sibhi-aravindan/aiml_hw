{
  "nbformat": 4,
  "nbformat_minor": 0,
  "metadata": {
    "colab": {
      "name": "aiml_hw2(data analytics).ipynb",
      "provenance": [],
      "authorship_tag": "ABX9TyOv9Cn4v4jjtA4ufOmT8Gqv",
      "include_colab_link": true
    },
    "kernelspec": {
      "name": "python3",
      "display_name": "Python 3"
    }
  },
  "cells": [
    {
      "cell_type": "markdown",
      "metadata": {
        "id": "view-in-github",
        "colab_type": "text"
      },
      "source": [
        "<a href=\"https://colab.research.google.com/github/sibhi-aravindan/aiml_hw/blob/master/aiml_hw2(data_analytics).ipynb\" target=\"_parent\"><img src=\"https://colab.research.google.com/assets/colab-badge.svg\" alt=\"Open In Colab\"/></a>"
      ]
    },
    {
      "cell_type": "code",
      "metadata": {
        "id": "FxR_XGSaqArR",
        "colab_type": "code",
        "colab": {}
      },
      "source": [
        "import pandas as pd\n",
        "import numpy as np\n",
        "import matplotlib.pyplot as plt"
      ],
      "execution_count": 0,
      "outputs": []
    },
    {
      "cell_type": "code",
      "metadata": {
        "id": "D31IKlqWpUf_",
        "colab_type": "code",
        "colab": {}
      },
      "source": [
        "url1 =\"https://raw.githubusercontent.com/rames4498/Certificate_Programme_in_AI_ML/master/exercises/11.2%20Chennai%20Institute%20of%20Technology_202114-11-19.csv\"\n",
        "df1 =pd.DataFrame(pd.read_csv(url1))\n",
        "url2 =\"https://raw.githubusercontent.com/rames4498/Certificate_Programme_in_AI_ML/master/exercises/11.2%20Sri%20Venkateshwara%20College%20of%20Engineering%20and%20Technology_202015-11-19.csv\"\n",
        "df2 =pd.DataFrame(pd.read_csv(url2))"
      ],
      "execution_count": 0,
      "outputs": []
    },
    {
      "cell_type": "code",
      "metadata": {
        "id": "GbBN6YjQq8om",
        "colab_type": "code",
        "colab": {
          "base_uri": "https://localhost:8080/",
          "height": 374
        },
        "outputId": "2523607a-dff5-42c4-c505-7049eb2c73a0"
      },
      "source": [
        "df1.head()"
      ],
      "execution_count": 147,
      "outputs": [
        {
          "output_type": "execute_result",
          "data": {
            "text/html": [
              "<div>\n",
              "<style scoped>\n",
              "    .dataframe tbody tr th:only-of-type {\n",
              "        vertical-align: middle;\n",
              "    }\n",
              "\n",
              "    .dataframe tbody tr th {\n",
              "        vertical-align: top;\n",
              "    }\n",
              "\n",
              "    .dataframe thead th {\n",
              "        text-align: right;\n",
              "    }\n",
              "</style>\n",
              "<table border=\"1\" class=\"dataframe\">\n",
              "  <thead>\n",
              "    <tr style=\"text-align: right;\">\n",
              "      <th></th>\n",
              "      <th>Name</th>\n",
              "      <th>python</th>\n",
              "      <th>python_en</th>\n",
              "      <th>mysql</th>\n",
              "      <th>computational_thinking</th>\n",
              "      <th>Previous Geekions</th>\n",
              "      <th>CodeKata Score</th>\n",
              "      <th>Department</th>\n",
              "      <th>Mobile</th>\n",
              "      <th>Email</th>\n",
              "      <th>Rising</th>\n",
              "    </tr>\n",
              "  </thead>\n",
              "  <tbody>\n",
              "    <tr>\n",
              "      <th>0</th>\n",
              "      <td>ASHOK KUMAR K</td>\n",
              "      <td>100</td>\n",
              "      <td>0</td>\n",
              "      <td>31</td>\n",
              "      <td>9</td>\n",
              "      <td>19400</td>\n",
              "      <td>19400</td>\n",
              "      <td>Electronics and Electrical Engineering</td>\n",
              "      <td>6382040562</td>\n",
              "      <td>ashokkumark.citeee2017@gmail.com</td>\n",
              "      <td>0</td>\n",
              "    </tr>\n",
              "    <tr>\n",
              "      <th>1</th>\n",
              "      <td>Chandru</td>\n",
              "      <td>0</td>\n",
              "      <td>20</td>\n",
              "      <td>0</td>\n",
              "      <td>0</td>\n",
              "      <td>14150</td>\n",
              "      <td>14490</td>\n",
              "      <td>Computer Science and Engineering</td>\n",
              "      <td>8667881378</td>\n",
              "      <td>chandrus.citcse2017@gmail.com</td>\n",
              "      <td>340</td>\n",
              "    </tr>\n",
              "    <tr>\n",
              "      <th>2</th>\n",
              "      <td>Ganesh Ramkumar R</td>\n",
              "      <td>-1</td>\n",
              "      <td>55</td>\n",
              "      <td>24</td>\n",
              "      <td>6</td>\n",
              "      <td>8790</td>\n",
              "      <td>10790</td>\n",
              "      <td>Computer Science and Engineering</td>\n",
              "      <td>9003671061</td>\n",
              "      <td>science.ganesh007@gmail.com</td>\n",
              "      <td>2000</td>\n",
              "    </tr>\n",
              "    <tr>\n",
              "      <th>3</th>\n",
              "      <td>Bodipudi Harini</td>\n",
              "      <td>-1</td>\n",
              "      <td>0</td>\n",
              "      <td>35</td>\n",
              "      <td>-1</td>\n",
              "      <td>10040</td>\n",
              "      <td>10040</td>\n",
              "      <td>Electronics and Communication Engineering</td>\n",
              "      <td>8374994636</td>\n",
              "      <td>harinib.citece2017@gmail.com</td>\n",
              "      <td>0</td>\n",
              "    </tr>\n",
              "    <tr>\n",
              "      <th>4</th>\n",
              "      <td>VIINU V P</td>\n",
              "      <td>-1</td>\n",
              "      <td>100</td>\n",
              "      <td>24</td>\n",
              "      <td>-1</td>\n",
              "      <td>9150</td>\n",
              "      <td>9150</td>\n",
              "      <td>Electronics and Electrical Engineering</td>\n",
              "      <td>9629663689</td>\n",
              "      <td>viinu07@gmail.com</td>\n",
              "      <td>0</td>\n",
              "    </tr>\n",
              "  </tbody>\n",
              "</table>\n",
              "</div>"
            ],
            "text/plain": [
              "                Name  python  ...                             Email  Rising\n",
              "0      ASHOK KUMAR K     100  ...  ashokkumark.citeee2017@gmail.com       0\n",
              "1            Chandru       0  ...     chandrus.citcse2017@gmail.com     340\n",
              "2  Ganesh Ramkumar R      -1  ...       science.ganesh007@gmail.com    2000\n",
              "3    Bodipudi Harini      -1  ...      harinib.citece2017@gmail.com       0\n",
              "4          VIINU V P      -1  ...                 viinu07@gmail.com       0\n",
              "\n",
              "[5 rows x 11 columns]"
            ]
          },
          "metadata": {
            "tags": []
          },
          "execution_count": 147
        }
      ]
    },
    {
      "cell_type": "code",
      "metadata": {
        "id": "HJbTcCGyrguc",
        "colab_type": "code",
        "colab": {
          "base_uri": "https://localhost:8080/",
          "height": 204
        },
        "outputId": "d07c8b46-b972-42e5-cd73-ad47c50b393d"
      },
      "source": [
        "df2.head()"
      ],
      "execution_count": 148,
      "outputs": [
        {
          "output_type": "execute_result",
          "data": {
            "text/html": [
              "<div>\n",
              "<style scoped>\n",
              "    .dataframe tbody tr th:only-of-type {\n",
              "        vertical-align: middle;\n",
              "    }\n",
              "\n",
              "    .dataframe tbody tr th {\n",
              "        vertical-align: top;\n",
              "    }\n",
              "\n",
              "    .dataframe thead th {\n",
              "        text-align: right;\n",
              "    }\n",
              "</style>\n",
              "<table border=\"1\" class=\"dataframe\">\n",
              "  <thead>\n",
              "    <tr style=\"text-align: right;\">\n",
              "      <th></th>\n",
              "      <th>Name</th>\n",
              "      <th>python</th>\n",
              "      <th>mysql</th>\n",
              "      <th>Previous Geekions</th>\n",
              "      <th>CodeKata Score</th>\n",
              "      <th>Department</th>\n",
              "      <th>Mobile</th>\n",
              "      <th>Email</th>\n",
              "      <th>Rising</th>\n",
              "    </tr>\n",
              "  </thead>\n",
              "  <tbody>\n",
              "    <tr>\n",
              "      <th>0</th>\n",
              "      <td>A.Dharani</td>\n",
              "      <td>82.0</td>\n",
              "      <td>20.0</td>\n",
              "      <td>24500</td>\n",
              "      <td>24500</td>\n",
              "      <td>Computer Science and Engineering</td>\n",
              "      <td>8056669928</td>\n",
              "      <td>dharanianbu74@gmail.com</td>\n",
              "      <td>0</td>\n",
              "    </tr>\n",
              "    <tr>\n",
              "      <th>1</th>\n",
              "      <td>V.JEEVITHA</td>\n",
              "      <td>82.0</td>\n",
              "      <td>20.0</td>\n",
              "      <td>21740</td>\n",
              "      <td>21740</td>\n",
              "      <td>Computer Science and Engineering</td>\n",
              "      <td>9655705598</td>\n",
              "      <td>vjeevitha1998@gmail.com</td>\n",
              "      <td>0</td>\n",
              "    </tr>\n",
              "    <tr>\n",
              "      <th>2</th>\n",
              "      <td>HEMAVATHI.R</td>\n",
              "      <td>100.0</td>\n",
              "      <td>100.0</td>\n",
              "      <td>19680</td>\n",
              "      <td>19680</td>\n",
              "      <td>Computer Science and Engineering</td>\n",
              "      <td>7558186924</td>\n",
              "      <td>hemaravi0499@gmail.com</td>\n",
              "      <td>0</td>\n",
              "    </tr>\n",
              "    <tr>\n",
              "      <th>3</th>\n",
              "      <td>Mugunthan S</td>\n",
              "      <td>100.0</td>\n",
              "      <td>47.0</td>\n",
              "      <td>10610</td>\n",
              "      <td>10610</td>\n",
              "      <td>Computer Science and Engineering</td>\n",
              "      <td>7094532287</td>\n",
              "      <td>mugunthans718@gmail.com</td>\n",
              "      <td>0</td>\n",
              "    </tr>\n",
              "    <tr>\n",
              "      <th>4</th>\n",
              "      <td>Sathammai.S</td>\n",
              "      <td>100.0</td>\n",
              "      <td>8.0</td>\n",
              "      <td>8980</td>\n",
              "      <td>8980</td>\n",
              "      <td>Computer Science and Engineering</td>\n",
              "      <td>6374336788</td>\n",
              "      <td>vinayagar2324@gmail.com</td>\n",
              "      <td>0</td>\n",
              "    </tr>\n",
              "  </tbody>\n",
              "</table>\n",
              "</div>"
            ],
            "text/plain": [
              "          Name  python  mysql  ...      Mobile                    Email Rising\n",
              "0    A.Dharani    82.0   20.0  ...  8056669928  dharanianbu74@gmail.com      0\n",
              "1  V.JEEVITHA     82.0   20.0  ...  9655705598  vjeevitha1998@gmail.com      0\n",
              "2  HEMAVATHI.R   100.0  100.0  ...  7558186924   hemaravi0499@gmail.com      0\n",
              "3  Mugunthan S   100.0   47.0  ...  7094532287  mugunthans718@gmail.com      0\n",
              "4  Sathammai.S   100.0    8.0  ...  6374336788  vinayagar2324@gmail.com      0\n",
              "\n",
              "[5 rows x 9 columns]"
            ]
          },
          "metadata": {
            "tags": []
          },
          "execution_count": 148
        }
      ]
    },
    {
      "cell_type": "code",
      "metadata": {
        "id": "A8VUXMltsEQg",
        "colab_type": "code",
        "colab": {}
      },
      "source": [
        "df1=df1.drop(['Mobile','Email'],axis=1)\n",
        "df2=df2.drop(['Mobile','Email'],axis=1)"
      ],
      "execution_count": 0,
      "outputs": []
    },
    {
      "cell_type": "code",
      "metadata": {
        "id": "vuVvrqist-ty",
        "colab_type": "code",
        "colab": {
          "base_uri": "https://localhost:8080/",
          "height": 207
        },
        "outputId": "9162156b-41d9-4113-cbb6-d25d4e112aa9"
      },
      "source": [
        "Great1=df1[df1['CodeKata Score']>15000]\n",
        "Good1=df1[(df1['CodeKata Score']<=15000) & (df1['CodeKata Score']>10000)]\n",
        "Okay1=df1[(df1['CodeKata Score']<=10000) & (df1['CodeKata Score']>7000)]\n",
        "Bad1=df1[df1['CodeKata Score']<=7000]\n",
        "\n",
        "Great2=df2[df2['CodeKata Score']>15000]\n",
        "Good2=df2[(df2['CodeKata Score']<=15000) & (df['CodeKata Score']>10000)]\n",
        "Okay2=df2[(df2['CodeKata Score']<=10000) & (df2['CodeKata Score']>7000)]\n",
        "Bad2=df2[df2['CodeKata Score']<=7000]\n",
        "\n",
        "Great1.to_csv('Great1.csv', encoding='utf-8', index=False)\n",
        "Good1.to_csv('Good1.csv', encoding='utf-8', index=False)\n",
        "Okay1.to_csv('Okay1.csv', encoding='utf-8', index=False)\n",
        "Bad1.to_csv('Bad1.csv', encoding='utf-8', index=False)\n",
        "\n",
        "Great2.to_csv('Great2.csv', encoding='utf-8', index=False)\n",
        "Good2.to_csv('Good2.csv', encoding='utf-8', index=False)\n",
        "Okay2.to_csv('Okay2.csv', encoding='utf-8', index=False)\n",
        "Bad2.to_csv('Bad2.csv', encoding='utf-8', index=False)\n",
        "\n",
        "pd.read_csv('Okay2.csv')"
      ],
      "execution_count": 143,
      "outputs": [
        {
          "output_type": "stream",
          "text": [
            "/usr/local/lib/python3.6/dist-packages/ipykernel_launcher.py:7: UserWarning: Boolean Series key will be reindexed to match DataFrame index.\n",
            "  import sys\n"
          ],
          "name": "stderr"
        },
        {
          "output_type": "execute_result",
          "data": {
            "text/html": [
              "<div>\n",
              "<style scoped>\n",
              "    .dataframe tbody tr th:only-of-type {\n",
              "        vertical-align: middle;\n",
              "    }\n",
              "\n",
              "    .dataframe tbody tr th {\n",
              "        vertical-align: top;\n",
              "    }\n",
              "\n",
              "    .dataframe thead th {\n",
              "        text-align: right;\n",
              "    }\n",
              "</style>\n",
              "<table border=\"1\" class=\"dataframe\">\n",
              "  <thead>\n",
              "    <tr style=\"text-align: right;\">\n",
              "      <th></th>\n",
              "      <th>Name</th>\n",
              "      <th>python</th>\n",
              "      <th>mysql</th>\n",
              "      <th>Previous Geekions</th>\n",
              "      <th>CodeKata Score</th>\n",
              "      <th>Department</th>\n",
              "      <th>Rising</th>\n",
              "    </tr>\n",
              "  </thead>\n",
              "  <tbody>\n",
              "    <tr>\n",
              "      <th>0</th>\n",
              "      <td>Sathammai.S</td>\n",
              "      <td>100.0</td>\n",
              "      <td>8.0</td>\n",
              "      <td>8980</td>\n",
              "      <td>8980</td>\n",
              "      <td>Computer Science and Engineering</td>\n",
              "      <td>0</td>\n",
              "    </tr>\n",
              "    <tr>\n",
              "      <th>1</th>\n",
              "      <td>NIVEESHWAR S</td>\n",
              "      <td>100.0</td>\n",
              "      <td>0.0</td>\n",
              "      <td>8200</td>\n",
              "      <td>8200</td>\n",
              "      <td>Computer Science and Engineering</td>\n",
              "      <td>0</td>\n",
              "    </tr>\n",
              "    <tr>\n",
              "      <th>2</th>\n",
              "      <td>KALAIARASAN K</td>\n",
              "      <td>85.0</td>\n",
              "      <td>47.0</td>\n",
              "      <td>7750</td>\n",
              "      <td>7880</td>\n",
              "      <td>Electronics and Communication Engineering</td>\n",
              "      <td>130</td>\n",
              "    </tr>\n",
              "    <tr>\n",
              "      <th>3</th>\n",
              "      <td>MOHAMED ZUBAIR AHMED</td>\n",
              "      <td>82.0</td>\n",
              "      <td>4.0</td>\n",
              "      <td>7020</td>\n",
              "      <td>7020</td>\n",
              "      <td>Computer Science and Engineering</td>\n",
              "      <td>0</td>\n",
              "    </tr>\n",
              "  </tbody>\n",
              "</table>\n",
              "</div>"
            ],
            "text/plain": [
              "                   Name  ...  Rising\n",
              "0           Sathammai.S  ...       0\n",
              "1          NIVEESHWAR S  ...       0\n",
              "2         KALAIARASAN K  ...     130\n",
              "3  MOHAMED ZUBAIR AHMED  ...       0\n",
              "\n",
              "[4 rows x 7 columns]"
            ]
          },
          "metadata": {
            "tags": []
          },
          "execution_count": 143
        }
      ]
    },
    {
      "cell_type": "code",
      "metadata": {
        "id": "3z57qX3Qyz3D",
        "colab_type": "code",
        "colab": {
          "base_uri": "https://localhost:8080/",
          "height": 34
        },
        "outputId": "8029e3e1-0f04-4d04-f652-0f8d3d1e0a82"
      },
      "source": [
        "df1['CodeKata Score'].mean() - df2['CodeKata Score'].mean()"
      ],
      "execution_count": 150,
      "outputs": [
        {
          "output_type": "execute_result",
          "data": {
            "text/plain": [
              "3895.357142857143"
            ]
          },
          "metadata": {
            "tags": []
          },
          "execution_count": 150
        }
      ]
    },
    {
      "cell_type": "code",
      "metadata": {
        "id": "1B9Sedg6ztWu",
        "colab_type": "code",
        "colab": {
          "base_uri": "https://localhost:8080/",
          "height": 34
        },
        "outputId": "55e42f42-3a19-41cc-d34b-394012afa44f"
      },
      "source": [
        "len(df1)"
      ],
      "execution_count": 151,
      "outputs": [
        {
          "output_type": "execute_result",
          "data": {
            "text/plain": [
              "35"
            ]
          },
          "metadata": {
            "tags": []
          },
          "execution_count": 151
        }
      ]
    },
    {
      "cell_type": "code",
      "metadata": {
        "id": "3sDDNsOM1lJP",
        "colab_type": "code",
        "colab": {
          "base_uri": "https://localhost:8080/",
          "height": 34
        },
        "outputId": "f8112e7e-d4cc-481b-f354-ec8872f1c515"
      },
      "source": [
        "df1['mysql'].mean()"
      ],
      "execution_count": 152,
      "outputs": [
        {
          "output_type": "execute_result",
          "data": {
            "text/plain": [
              "13.657142857142857"
            ]
          },
          "metadata": {
            "tags": []
          },
          "execution_count": 152
        }
      ]
    },
    {
      "cell_type": "code",
      "metadata": {
        "id": "NIbRDuXD12D3",
        "colab_type": "code",
        "colab": {
          "base_uri": "https://localhost:8080/",
          "height": 221
        },
        "outputId": "949120e9-c0c4-4b16-95f1-41e4ff33bbb9"
      },
      "source": [
        "df1=df1.sort_values('Rising',ascending=False)\n",
        "print(df1.head(3))\n",
        "\n",
        "df2=df2.sort_values('Rising',ascending=False)\n",
        "print(df2.head(3))"
      ],
      "execution_count": 153,
      "outputs": [
        {
          "output_type": "stream",
          "text": [
            "                 Name  python  ...                              Department  Rising\n",
            "8            shifak N      58  ...  Electronics and Electrical Engineering    3140\n",
            "2   Ganesh Ramkumar R      -1  ...        Computer Science and Engineering    2000\n",
            "18     Narasimhan Y L      -1  ...        Computer Science and Engineering    2000\n",
            "\n",
            "[3 rows x 9 columns]\n",
            "             Name  python  ...                                 Department  Rising\n",
            "6   KALAIARASAN K    85.0  ...  Electronics and Communication Engineering     130\n",
            "0       A.Dharani    82.0  ...           Computer Science and Engineering       0\n",
            "53      RANJITH.R   100.0  ...  Electronics and Communication Engineering       0\n",
            "\n",
            "[3 rows x 7 columns]\n"
          ],
          "name": "stdout"
        }
      ]
    },
    {
      "cell_type": "code",
      "metadata": {
        "id": "iJJ3Y33-45DU",
        "colab_type": "code",
        "colab": {
          "base_uri": "https://localhost:8080/",
          "height": 221
        },
        "outputId": "d721e44b-5767-4abd-d59c-0ac96dc10ea3"
      },
      "source": [
        "df1=df1.sort_values('CodeKata Score',ascending=False)\n",
        "print(df1.head(3))\n",
        "\n",
        "df2=df2.sort_values('CodeKata Score',ascending=False)\n",
        "print(df2.head(3))"
      ],
      "execution_count": 154,
      "outputs": [
        {
          "output_type": "stream",
          "text": [
            "                Name  python  ...                              Department  Rising\n",
            "0      ASHOK KUMAR K     100  ...  Electronics and Electrical Engineering       0\n",
            "1            Chandru       0  ...        Computer Science and Engineering     340\n",
            "2  Ganesh Ramkumar R      -1  ...        Computer Science and Engineering    2000\n",
            "\n",
            "[3 rows x 9 columns]\n",
            "          Name  python  ...                        Department  Rising\n",
            "0    A.Dharani    82.0  ...  Computer Science and Engineering       0\n",
            "1  V.JEEVITHA     82.0  ...  Computer Science and Engineering       0\n",
            "2  HEMAVATHI.R   100.0  ...  Computer Science and Engineering       0\n",
            "\n",
            "[3 rows x 7 columns]\n"
          ],
          "name": "stdout"
        }
      ]
    },
    {
      "cell_type": "code",
      "metadata": {
        "id": "tfG5tFWO_ILE",
        "colab_type": "code",
        "colab": {
          "base_uri": "https://localhost:8080/",
          "height": 350
        },
        "outputId": "3976f6b6-8f25-4ef9-a55a-6909f92cf2e0"
      },
      "source": [
        "  compsci=df.loc[df1[\"Department\"]=='Computer Science and Engineering']\n",
        "  electrical=df.loc[df1[\"Department\"]=='Electronics and Electrical Engineering']\n",
        "  communication=df.loc[df1['Department']=='Electronics and Communication Engineering']\n",
        "  \n",
        "  data=[compsci['CodeKata Score'].mean(),electrical['CodeKata Score'].mean(),communication['CodeKata Score'].mean()]\n",
        "  labels=['Computer Science and Engineering','Electronics and Electrical Engineering','Electronics and Communication Engineering']\n",
        "\n",
        "  plt.pie(data,labels=labels)"
      ],
      "execution_count": 155,
      "outputs": [
        {
          "output_type": "execute_result",
          "data": {
            "text/plain": [
              "([<matplotlib.patches.Wedge at 0x7f22ea401860>,\n",
              "  <matplotlib.patches.Wedge at 0x7f22ea401da0>,\n",
              "  <matplotlib.patches.Wedge at 0x7f22ea40c2e8>],\n",
              " [Text(0.7044323156400554, 0.8448521247425431, 'Computer Science and Engineering'),\n",
              "  Text(-1.0964542231248986, -0.08825041978129852, 'Electronics and Electrical Engineering'),\n",
              "  Text(0.7699420555826483, -0.7856139198392339, 'Electronics and Communication Engineering')])"
            ]
          },
          "metadata": {
            "tags": []
          },
          "execution_count": 155
        },
        {
          "output_type": "display_data",
          "data": {
            "image/png": "[encoded data removed]",
            "text/plain": [
              "<Figure size 432x288 with 1 Axes>"
            ]
          },
          "metadata": {
            "tags": []
          }
        }
      ]
    },
    {
      "cell_type": "code",
      "metadata": {
        "id": "rxWUmqKBDFw5",
        "colab_type": "code",
        "colab": {
          "base_uri": "https://localhost:8080/",
          "height": 508
        },
        "outputId": "e3ef3dba-9a22-4b89-e0af-579c85a16731"
      },
      "source": [
        "data=[compsci['CodeKata Score'].max(),electrical['CodeKata Score'].max(),communication['CodeKata Score'].max()]\n",
        "bar=pd.DataFrame({'Department':labels,'Top Scores':data})\n",
        "bar.plot.bar(x='Department',y='Top Scores')\n"
      ],
      "execution_count": 140,
      "outputs": [
        {
          "output_type": "execute_result",
          "data": {
            "text/plain": [
              "<matplotlib.axes._subplots.AxesSubplot at 0x7f22ea4ed1d0>"
            ]
          },
          "metadata": {
            "tags": []
          },
          "execution_count": 140
        },
        {
          "output_type": "display_data",
          "data": {
            "image/png": "[encoded data removed]",
            "text/plain": [
              "<Figure size 432x288 with 1 Axes>"
            ]
          },
          "metadata": {
            "tags": [],
            "needs_background": "light"
          }
        }
      ]
    },
    {
      "cell_type": "code",
      "metadata": {
        "id": "n5E7IWgfOsIk",
        "colab_type": "code",
        "colab": {}
      },
      "source": [
        ""
      ],
      "execution_count": 0,
      "outputs": []
    }
  ]
}